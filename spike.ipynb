{
 "cells": [
  {
   "cell_type": "code",
   "execution_count": 8,
   "id": "f7ad808f",
   "metadata": {},
   "outputs": [],
   "source": [
    "import numpy as np\n",
    "import pandas as pd\n",
    "import matplotlib.pyplot as plt\n",
    "\n",
    "# Parameters\n",
    "num_samples = 5000  # total number of samples\n",
    "baseline_noise_level = 0.2  # normal noise\n",
    "num_spikes = 120  # number of spikes\n",
    "spike_height_range = (3, 10)  # min and max spike height\n",
    "\n",
    "# 1. Generate base signal with low noise\n",
    "signal = np.random.normal(0, baseline_noise_level, num_samples)\n",
    "\n",
    "# 2. Insert random spikes at random locations\n",
    "spike_indices = np.random.choice(num_samples, size=num_spikes, replace=False)\n",
    "for idx in spike_indices:\n",
    "    spike_height = np.random.uniform(*spike_height_range)\n",
    "    signal[idx] += spike_height\n",
    "\n",
    "# 3. Create DataFrame and export to CSV\n",
    "df = pd.DataFrame({\n",
    "    'Time': np.arange(num_samples),  # you can scale this to real time\n",
    "    'Amplitude': signal\n",
    "})\n",
    "df.to_csv('spiky_signal.csv', index=False)\n",
    "\n",
    "\n"
   ]
  },
  {
   "cell_type": "code",
   "execution_count": null,
   "id": "876ed324",
   "metadata": {},
   "outputs": [],
   "source": []
  },
  {
   "cell_type": "code",
   "execution_count": null,
   "id": "1f0fe565",
   "metadata": {},
   "outputs": [],
   "source": []
  }
 ],
 "metadata": {
  "kernelspec": {
   "display_name": "base",
   "language": "python",
   "name": "python3"
  },
  "language_info": {
   "codemirror_mode": {
    "name": "ipython",
    "version": 3
   },
   "file_extension": ".py",
   "mimetype": "text/x-python",
   "name": "python",
   "nbconvert_exporter": "python",
   "pygments_lexer": "ipython3",
   "version": "3.11.5"
  }
 },
 "nbformat": 4,
 "nbformat_minor": 5
}
