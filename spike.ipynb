{
 "cells": [
  {
   "cell_type": "code",
   "execution_count": 9,
   "id": "f7ad808f",
   "metadata": {},
   "outputs": [],
   "source": [
    "import numpy as np\n",
    "import pandas as pd\n",
    "import matplotlib.pyplot as plt\n",
    "\n",
    "# Parameters\n",
    "num_samples = 5000\n",
    "baseline_noise_level = 0.2\n",
    "num_spikes = 100\n",
    "spike_height_range = (3, 10)\n",
    "\n",
    "# Generate base signal\n",
    "signal = np.random.normal(0, baseline_noise_level, num_samples)\n",
    "\n",
    "# Insert spikes\n",
    "spike_indices = np.random.choice(num_samples, size=num_spikes, replace=False)\n",
    "for idx in spike_indices:\n",
    "    spike_height = np.random.uniform(*spike_height_range)\n",
    "    signal[idx] += spike_height\n",
    "\n",
    "# Convert to DataFrame with one column\n",
    "df = pd.DataFrame(signal, columns=[\"Amplitude\"])\n",
    "\n",
    "# Save to CSV\n",
    "df.to_csv('spiky_signal_5000x1.csv', index=False, header=False)\n",
    "\n"
   ]
  },
  {
   "cell_type": "code",
   "execution_count": null,
   "id": "876ed324",
   "metadata": {},
   "outputs": [],
   "source": []
  },
  {
   "cell_type": "code",
   "execution_count": null,
   "id": "1f0fe565",
   "metadata": {},
   "outputs": [],
   "source": []
  }
 ],
 "metadata": {
  "kernelspec": {
   "display_name": "base",
   "language": "python",
   "name": "python3"
  },
  "language_info": {
   "codemirror_mode": {
    "name": "ipython",
    "version": 3
   },
   "file_extension": ".py",
   "mimetype": "text/x-python",
   "name": "python",
   "nbconvert_exporter": "python",
   "pygments_lexer": "ipython3",
   "version": "3.11.5"
  }
 },
 "nbformat": 4,
 "nbformat_minor": 5
}
